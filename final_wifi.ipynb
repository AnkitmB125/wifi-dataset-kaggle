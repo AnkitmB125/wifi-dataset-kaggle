{
 "cells": [
  {
   "cell_type": "code",
   "execution_count": 1,
   "metadata": {
    "collapsed": true
   },
   "outputs": [],
   "source": [
    "#import required modules\n",
    "import pandas as pd\n",
    "import matplotlib.pyplot as plt\n",
    "import seaborn as sb\n",
    "\n",
    "from sklearn import metrics\n",
    "from sklearn.model_selection import train_test_split\n",
    "from sklearn import metrics\n",
    "from sklearn.naive_bayes import GaussianNB\n",
    "\n",
    "%matplotlib inline"
   ]
  },
  {
   "cell_type": "code",
   "execution_count": 2,
   "metadata": {
    "collapsed": true
   },
   "outputs": [],
   "source": [
    "#load dataset\n",
    "df_train = pd.read_csv('train.csv',header=None)\n",
    "df_test = pd.read_csv('test.csv',header=None)"
   ]
  },
  {
   "cell_type": "code",
   "execution_count": 3,
   "metadata": {},
   "outputs": [
    {
     "data": {
      "text/html": [
       "<div>\n",
       "<style>\n",
       "    .dataframe thead tr:only-child th {\n",
       "        text-align: right;\n",
       "    }\n",
       "\n",
       "    .dataframe thead th {\n",
       "        text-align: left;\n",
       "    }\n",
       "\n",
       "    .dataframe tbody tr th {\n",
       "        vertical-align: top;\n",
       "    }\n",
       "</style>\n",
       "<table border=\"1\" class=\"dataframe\">\n",
       "  <thead>\n",
       "    <tr style=\"text-align: right;\">\n",
       "      <th></th>\n",
       "      <th>0</th>\n",
       "      <th>1</th>\n",
       "      <th>2</th>\n",
       "      <th>3</th>\n",
       "      <th>4</th>\n",
       "      <th>5</th>\n",
       "      <th>6</th>\n",
       "      <th>7</th>\n",
       "      <th>8</th>\n",
       "    </tr>\n",
       "  </thead>\n",
       "  <tbody>\n",
       "    <tr>\n",
       "      <th>0</th>\n",
       "      <td>ID_1</td>\n",
       "      <td>-64</td>\n",
       "      <td>-56</td>\n",
       "      <td>-61</td>\n",
       "      <td>-66</td>\n",
       "      <td>-71</td>\n",
       "      <td>-82</td>\n",
       "      <td>-81</td>\n",
       "      <td>1</td>\n",
       "    </tr>\n",
       "    <tr>\n",
       "      <th>1</th>\n",
       "      <td>ID_2</td>\n",
       "      <td>-68</td>\n",
       "      <td>-57</td>\n",
       "      <td>-61</td>\n",
       "      <td>-65</td>\n",
       "      <td>-71</td>\n",
       "      <td>-85</td>\n",
       "      <td>-85</td>\n",
       "      <td>1</td>\n",
       "    </tr>\n",
       "    <tr>\n",
       "      <th>2</th>\n",
       "      <td>ID_3</td>\n",
       "      <td>-63</td>\n",
       "      <td>-60</td>\n",
       "      <td>-60</td>\n",
       "      <td>-67</td>\n",
       "      <td>-76</td>\n",
       "      <td>-85</td>\n",
       "      <td>-84</td>\n",
       "      <td>1</td>\n",
       "    </tr>\n",
       "    <tr>\n",
       "      <th>3</th>\n",
       "      <td>ID_4</td>\n",
       "      <td>-61</td>\n",
       "      <td>-60</td>\n",
       "      <td>-68</td>\n",
       "      <td>-62</td>\n",
       "      <td>-77</td>\n",
       "      <td>-90</td>\n",
       "      <td>-80</td>\n",
       "      <td>1</td>\n",
       "    </tr>\n",
       "    <tr>\n",
       "      <th>4</th>\n",
       "      <td>ID_5</td>\n",
       "      <td>-63</td>\n",
       "      <td>-65</td>\n",
       "      <td>-60</td>\n",
       "      <td>-63</td>\n",
       "      <td>-77</td>\n",
       "      <td>-81</td>\n",
       "      <td>-87</td>\n",
       "      <td>1</td>\n",
       "    </tr>\n",
       "  </tbody>\n",
       "</table>\n",
       "</div>"
      ],
      "text/plain": [
       "      0   1   2   3   4   5   6   7  8\n",
       "0  ID_1 -64 -56 -61 -66 -71 -82 -81  1\n",
       "1  ID_2 -68 -57 -61 -65 -71 -85 -85  1\n",
       "2  ID_3 -63 -60 -60 -67 -76 -85 -84  1\n",
       "3  ID_4 -61 -60 -68 -62 -77 -90 -80  1\n",
       "4  ID_5 -63 -65 -60 -63 -77 -81 -87  1"
      ]
     },
     "execution_count": 3,
     "metadata": {},
     "output_type": "execute_result"
    }
   ],
   "source": [
    "#check structure of data in dataframe\n",
    "df_train.head()"
   ]
  },
  {
   "cell_type": "code",
   "execution_count": 4,
   "metadata": {},
   "outputs": [
    {
     "name": "stdout",
     "output_type": "stream",
     "text": [
      "<class 'pandas.core.frame.DataFrame'>\n",
      "RangeIndex: 1500 entries, 0 to 1499\n",
      "Data columns (total 9 columns):\n",
      "0    1500 non-null object\n",
      "1    1500 non-null int64\n",
      "2    1500 non-null int64\n",
      "3    1500 non-null int64\n",
      "4    1500 non-null int64\n",
      "5    1500 non-null int64\n",
      "6    1500 non-null int64\n",
      "7    1500 non-null int64\n",
      "8    1500 non-null int64\n",
      "dtypes: int64(8), object(1)\n",
      "memory usage: 105.5+ KB\n"
     ]
    }
   ],
   "source": [
    "#get basic relevant information about the data\n",
    "#also to check if data contains NaN values\n",
    "df_train.info()"
   ]
  },
  {
   "cell_type": "code",
   "execution_count": 5,
   "metadata": {},
   "outputs": [
    {
     "data": {
      "text/html": [
       "<div>\n",
       "<style>\n",
       "    .dataframe thead tr:only-child th {\n",
       "        text-align: right;\n",
       "    }\n",
       "\n",
       "    .dataframe thead th {\n",
       "        text-align: left;\n",
       "    }\n",
       "\n",
       "    .dataframe tbody tr th {\n",
       "        vertical-align: top;\n",
       "    }\n",
       "</style>\n",
       "<table border=\"1\" class=\"dataframe\">\n",
       "  <thead>\n",
       "    <tr style=\"text-align: right;\">\n",
       "      <th></th>\n",
       "      <th>0</th>\n",
       "      <th>1</th>\n",
       "      <th>2</th>\n",
       "      <th>3</th>\n",
       "      <th>4</th>\n",
       "      <th>5</th>\n",
       "      <th>6</th>\n",
       "      <th>7</th>\n",
       "    </tr>\n",
       "  </thead>\n",
       "  <tbody>\n",
       "    <tr>\n",
       "      <th>0</th>\n",
       "      <td>ID_1</td>\n",
       "      <td>-62</td>\n",
       "      <td>-51</td>\n",
       "      <td>-54</td>\n",
       "      <td>-60</td>\n",
       "      <td>-74</td>\n",
       "      <td>-74</td>\n",
       "      <td>-82</td>\n",
       "    </tr>\n",
       "    <tr>\n",
       "      <th>1</th>\n",
       "      <td>ID_2</td>\n",
       "      <td>-57</td>\n",
       "      <td>-54</td>\n",
       "      <td>-51</td>\n",
       "      <td>-60</td>\n",
       "      <td>-47</td>\n",
       "      <td>-84</td>\n",
       "      <td>-88</td>\n",
       "    </tr>\n",
       "    <tr>\n",
       "      <th>2</th>\n",
       "      <td>ID_3</td>\n",
       "      <td>-56</td>\n",
       "      <td>-55</td>\n",
       "      <td>-44</td>\n",
       "      <td>-60</td>\n",
       "      <td>-51</td>\n",
       "      <td>-84</td>\n",
       "      <td>-86</td>\n",
       "    </tr>\n",
       "    <tr>\n",
       "      <th>3</th>\n",
       "      <td>ID_4</td>\n",
       "      <td>-19</td>\n",
       "      <td>-60</td>\n",
       "      <td>-54</td>\n",
       "      <td>-35</td>\n",
       "      <td>-69</td>\n",
       "      <td>-69</td>\n",
       "      <td>-78</td>\n",
       "    </tr>\n",
       "    <tr>\n",
       "      <th>4</th>\n",
       "      <td>ID_5</td>\n",
       "      <td>-67</td>\n",
       "      <td>-56</td>\n",
       "      <td>-60</td>\n",
       "      <td>-66</td>\n",
       "      <td>-73</td>\n",
       "      <td>-93</td>\n",
       "      <td>-87</td>\n",
       "    </tr>\n",
       "  </tbody>\n",
       "</table>\n",
       "</div>"
      ],
      "text/plain": [
       "      0   1   2   3   4   5   6   7\n",
       "0  ID_1 -62 -51 -54 -60 -74 -74 -82\n",
       "1  ID_2 -57 -54 -51 -60 -47 -84 -88\n",
       "2  ID_3 -56 -55 -44 -60 -51 -84 -86\n",
       "3  ID_4 -19 -60 -54 -35 -69 -69 -78\n",
       "4  ID_5 -67 -56 -60 -66 -73 -93 -87"
      ]
     },
     "execution_count": 5,
     "metadata": {},
     "output_type": "execute_result"
    }
   ],
   "source": [
    "df_test.head()"
   ]
  },
  {
   "cell_type": "code",
   "execution_count": 6,
   "metadata": {},
   "outputs": [
    {
     "name": "stdout",
     "output_type": "stream",
     "text": [
      "<class 'pandas.core.frame.DataFrame'>\n",
      "RangeIndex: 500 entries, 0 to 499\n",
      "Data columns (total 8 columns):\n",
      "0    500 non-null object\n",
      "1    500 non-null int64\n",
      "2    500 non-null int64\n",
      "3    500 non-null int64\n",
      "4    500 non-null int64\n",
      "5    500 non-null int64\n",
      "6    500 non-null int64\n",
      "7    500 non-null int64\n",
      "dtypes: int64(7), object(1)\n",
      "memory usage: 31.3+ KB\n"
     ]
    }
   ],
   "source": [
    "df_test.info()"
   ]
  },
  {
   "cell_type": "code",
   "execution_count": 7,
   "metadata": {
    "collapsed": true
   },
   "outputs": [],
   "source": [
    "colors=[]\n",
    "for i in df_train[8]:\n",
    "    if i==1:\n",
    "        colors.append('red')\n",
    "    elif i==2:\n",
    "        colors.append('blue')\n",
    "    elif i==3:\n",
    "        colors.append('green')\n",
    "    else:\n",
    "        colors.append('yellow')"
   ]
  },
  {
   "cell_type": "code",
   "execution_count": 8,
   "metadata": {},
   "outputs": [
    {
     "data": {
      "text/plain": [
       "<matplotlib.collections.PathCollection at 0x7f777c0c3240>"
      ]
     },
     "execution_count": 8,
     "metadata": {},
     "output_type": "execute_result"
    },
    {
     "data": {
      "image/png": "[encoded data removed]",
      "text/plain": [
       "<matplotlib.figure.Figure at 0x7f7783f2c0f0>"
      ]
     },
     "metadata": {},
     "output_type": "display_data"
    }
   ],
   "source": [
    "#visualize the relationship between attributes and output\n",
    "plt.scatter(df_train[1],df_train[2],c=colors,marker='v')"
   ]
  },
  {
   "cell_type": "code",
   "execution_count": 9,
   "metadata": {},
   "outputs": [
    {
     "data": {
      "text/plain": [
       "<matplotlib.collections.PathCollection at 0x7f777c052940>"
      ]
     },
     "execution_count": 9,
     "metadata": {},
     "output_type": "execute_result"
    },
    {
     "data": {
      "image/png": "[encoded data removed]",
      "text/plain": [
       "<matplotlib.figure.Figure at 0x7f7783f2cf60>"
      ]
     },
     "metadata": {},
     "output_type": "display_data"
    }
   ],
   "source": [
    "plt.scatter(df_train[1],df_train[3],c=colors,marker='v')"
   ]
  },
  {
   "cell_type": "code",
   "execution_count": 10,
   "metadata": {},
   "outputs": [
    {
     "data": {
      "text/plain": [
       "<matplotlib.collections.PathCollection at 0x7f777bfc0048>"
      ]
     },
     "execution_count": 10,
     "metadata": {},
     "output_type": "execute_result"
    },
    {
     "data": {
      "image/png": "[encoded data removed]",
      "text/plain": [
       "<matplotlib.figure.Figure at 0x7f7783f2c668>"
      ]
     },
     "metadata": {},
     "output_type": "display_data"
    }
   ],
   "source": [
    "plt.scatter(df_train[1],df_train[8],c=colors,marker='v')"
   ]
  },
  {
   "cell_type": "code",
   "execution_count": 11,
   "metadata": {},
   "outputs": [
    {
     "data": {
      "text/plain": [
       "<matplotlib.collections.PathCollection at 0x7f777bf9f940>"
      ]
     },
     "execution_count": 11,
     "metadata": {},
     "output_type": "execute_result"
    },
    {
     "data": {
      "image/png": "[encoded data removed]",
      "text/plain": [
       "<matplotlib.figure.Figure at 0x7f777c016470>"
      ]
     },
     "metadata": {},
     "output_type": "display_data"
    }
   ],
   "source": [
    "plt.scatter(df_train[4],df_train[8],c=colors,marker='v')"
   ]
  },
  {
   "cell_type": "code",
   "execution_count": 12,
   "metadata": {},
   "outputs": [
    {
     "data": {
      "text/html": [
       "<div>\n",
       "<style>\n",
       "    .dataframe thead tr:only-child th {\n",
       "        text-align: right;\n",
       "    }\n",
       "\n",
       "    .dataframe thead th {\n",
       "        text-align: left;\n",
       "    }\n",
       "\n",
       "    .dataframe tbody tr th {\n",
       "        vertical-align: top;\n",
       "    }\n",
       "</style>\n",
       "<table border=\"1\" class=\"dataframe\">\n",
       "  <thead>\n",
       "    <tr style=\"text-align: right;\">\n",
       "      <th></th>\n",
       "      <th>1</th>\n",
       "      <th>2</th>\n",
       "      <th>3</th>\n",
       "      <th>4</th>\n",
       "      <th>5</th>\n",
       "      <th>6</th>\n",
       "      <th>7</th>\n",
       "      <th>8</th>\n",
       "    </tr>\n",
       "  </thead>\n",
       "  <tbody>\n",
       "    <tr>\n",
       "      <th>1</th>\n",
       "      <td>1.000000</td>\n",
       "      <td>-0.025001</td>\n",
       "      <td>0.008173</td>\n",
       "      <td>0.923140</td>\n",
       "      <td>-0.264992</td>\n",
       "      <td>0.719425</td>\n",
       "      <td>0.681010</td>\n",
       "      <td>-0.084136</td>\n",
       "    </tr>\n",
       "    <tr>\n",
       "      <th>2</th>\n",
       "      <td>-0.025001</td>\n",
       "      <td>1.000000</td>\n",
       "      <td>0.266312</td>\n",
       "      <td>-0.015241</td>\n",
       "      <td>0.171894</td>\n",
       "      <td>0.064655</td>\n",
       "      <td>0.037988</td>\n",
       "      <td>0.116089</td>\n",
       "    </tr>\n",
       "    <tr>\n",
       "      <th>3</th>\n",
       "      <td>0.008173</td>\n",
       "      <td>0.266312</td>\n",
       "      <td>1.000000</td>\n",
       "      <td>0.047409</td>\n",
       "      <td>0.598848</td>\n",
       "      <td>-0.106953</td>\n",
       "      <td>-0.090573</td>\n",
       "      <td>0.663055</td>\n",
       "    </tr>\n",
       "    <tr>\n",
       "      <th>4</th>\n",
       "      <td>0.923140</td>\n",
       "      <td>-0.015241</td>\n",
       "      <td>0.047409</td>\n",
       "      <td>1.000000</td>\n",
       "      <td>-0.251789</td>\n",
       "      <td>0.701984</td>\n",
       "      <td>0.667914</td>\n",
       "      <td>-0.051578</td>\n",
       "    </tr>\n",
       "    <tr>\n",
       "      <th>5</th>\n",
       "      <td>-0.264992</td>\n",
       "      <td>0.171894</td>\n",
       "      <td>0.598848</td>\n",
       "      <td>-0.251789</td>\n",
       "      <td>1.000000</td>\n",
       "      <td>-0.424032</td>\n",
       "      <td>-0.366804</td>\n",
       "      <td>0.813521</td>\n",
       "    </tr>\n",
       "    <tr>\n",
       "      <th>6</th>\n",
       "      <td>0.719425</td>\n",
       "      <td>0.064655</td>\n",
       "      <td>-0.106953</td>\n",
       "      <td>0.701984</td>\n",
       "      <td>-0.424032</td>\n",
       "      <td>1.000000</td>\n",
       "      <td>0.726351</td>\n",
       "      <td>-0.368125</td>\n",
       "    </tr>\n",
       "    <tr>\n",
       "      <th>7</th>\n",
       "      <td>0.681010</td>\n",
       "      <td>0.037988</td>\n",
       "      <td>-0.090573</td>\n",
       "      <td>0.667914</td>\n",
       "      <td>-0.366804</td>\n",
       "      <td>0.726351</td>\n",
       "      <td>1.000000</td>\n",
       "      <td>-0.315843</td>\n",
       "    </tr>\n",
       "    <tr>\n",
       "      <th>8</th>\n",
       "      <td>-0.084136</td>\n",
       "      <td>0.116089</td>\n",
       "      <td>0.663055</td>\n",
       "      <td>-0.051578</td>\n",
       "      <td>0.813521</td>\n",
       "      <td>-0.368125</td>\n",
       "      <td>-0.315843</td>\n",
       "      <td>1.000000</td>\n",
       "    </tr>\n",
       "  </tbody>\n",
       "</table>\n",
       "</div>"
      ],
      "text/plain": [
       "          1         2         3         4         5         6         7  \\\n",
       "1  1.000000 -0.025001  0.008173  0.923140 -0.264992  0.719425  0.681010   \n",
       "2 -0.025001  1.000000  0.266312 -0.015241  0.171894  0.064655  0.037988   \n",
       "3  0.008173  0.266312  1.000000  0.047409  0.598848 -0.106953 -0.090573   \n",
       "4  0.923140 -0.015241  0.047409  1.000000 -0.251789  0.701984  0.667914   \n",
       "5 -0.264992  0.171894  0.598848 -0.251789  1.000000 -0.424032 -0.366804   \n",
       "6  0.719425  0.064655 -0.106953  0.701984 -0.424032  1.000000  0.726351   \n",
       "7  0.681010  0.037988 -0.090573  0.667914 -0.366804  0.726351  1.000000   \n",
       "8 -0.084136  0.116089  0.663055 -0.051578  0.813521 -0.368125 -0.315843   \n",
       "\n",
       "          8  \n",
       "1 -0.084136  \n",
       "2  0.116089  \n",
       "3  0.663055  \n",
       "4 -0.051578  \n",
       "5  0.813521  \n",
       "6 -0.368125  \n",
       "7 -0.315843  \n",
       "8  1.000000  "
      ]
     },
     "execution_count": 12,
     "metadata": {},
     "output_type": "execute_result"
    }
   ],
   "source": [
    "#check the correlation between attributes\n",
    "df_train.corr()"
   ]
  },
  {
   "cell_type": "code",
   "execution_count": 13,
   "metadata": {},
   "outputs": [
    {
     "data": {
      "text/plain": [
       "<matplotlib.axes._subplots.AxesSubplot at 0x7f777bf48eb8>"
      ]
     },
     "execution_count": 13,
     "metadata": {},
     "output_type": "execute_result"
    },
    {
     "data": {
      "image/png": "[encoded data removed]",
      "text/plain": [
       "<matplotlib.figure.Figure at 0x7f777c08bf28>"
      ]
     },
     "metadata": {},
     "output_type": "display_data"
    }
   ],
   "source": [
    "#visualize the correlation between attributes\n",
    "sb.heatmap(df_train.corr(), vmin = 0, vmax = 1, cmap = 'Greys')"
   ]
  },
  {
   "cell_type": "code",
   "execution_count": 14,
   "metadata": {
    "collapsed": true
   },
   "outputs": [],
   "source": [
    "#creating required dataframes to train models\n",
    "X = df_train[[1,2,3,4,5,6,7]]\n",
    "Y = df_train[8]`\n",
    "X_final = df_test[[1,2,3,4,5,6,7]]"
   ]
  },
  {
   "cell_type": "code",
   "execution_count": 15,
   "metadata": {
    "collapsed": true
   },
   "outputs": [],
   "source": [
    "#split the original data into train and test data (75:25 split)\n",
    "X_train , X_test , Y_train , Y_test = train_test_split(X,Y,test_size=.25,random_state=42)"
   ]
  },
  {
   "cell_type": "code",
   "execution_count": 16,
   "metadata": {
    "collapsed": true
   },
   "outputs": [],
   "source": [
    "#choose model to train data\n",
    "gnb = GaussianNB()"
   ]
  },
  {
   "cell_type": "code",
   "execution_count": 17,
   "metadata": {},
   "outputs": [
    {
     "data": {
      "text/plain": [
       "GaussianNB(priors=None)"
      ]
     },
     "execution_count": 17,
     "metadata": {},
     "output_type": "execute_result"
    }
   ],
   "source": [
    "#train the data with choosen model, no prior probabilities assigned\n",
    "gnb.fit(X_train,Y_train)"
   ]
  },
  {
   "cell_type": "code",
   "execution_count": 18,
   "metadata": {
    "collapsed": true
   },
   "outputs": [],
   "source": [
    "#predict the output of the model on the test data\n",
    "p_gnb = gnb.predict(X_test)"
   ]
  },
  {
   "cell_type": "code",
   "execution_count": 19,
   "metadata": {},
   "outputs": [
    {
     "data": {
      "text/plain": [
       "0.98399999999999999"
      ]
     },
     "execution_count": 19,
     "metadata": {},
     "output_type": "execute_result"
    }
   ],
   "source": [
    "#compare with actual output to get accuracy score\n",
    "metrics.accuracy_score(Y_test,p_gnb)"
   ]
  },
  {
   "cell_type": "code",
   "execution_count": 20,
   "metadata": {
    "collapsed": true
   },
   "outputs": [],
   "source": [
    "gnb_final = GaussianNB()"
   ]
  },
  {
   "cell_type": "code",
   "execution_count": 21,
   "metadata": {},
   "outputs": [
    {
     "data": {
      "text/plain": [
       "GaussianNB(priors=None)"
      ]
     },
     "execution_count": 21,
     "metadata": {},
     "output_type": "execute_result"
    }
   ],
   "source": [
    "#train the model on the whole dataset\n",
    "gnb_final.fit(X, Y)"
   ]
  },
  {
   "cell_type": "code",
   "execution_count": 22,
   "metadata": {
    "collapsed": true
   },
   "outputs": [],
   "source": [
    "#predict the outputs for the actual test dataset\n",
    "p_gnb_final = gnb_final.predict(X_final)"
   ]
  },
  {
   "cell_type": "code",
   "execution_count": 23,
   "metadata": {},
   "outputs": [
    {
     "data": {
      "text/html": [
       "<div>\n",
       "<style>\n",
       "    .dataframe thead tr:only-child th {\n",
       "        text-align: right;\n",
       "    }\n",
       "\n",
       "    .dataframe thead th {\n",
       "        text-align: left;\n",
       "    }\n",
       "\n",
       "    .dataframe tbody tr th {\n",
       "        vertical-align: top;\n",
       "    }\n",
       "</style>\n",
       "<table border=\"1\" class=\"dataframe\">\n",
       "  <thead>\n",
       "    <tr style=\"text-align: right;\">\n",
       "      <th></th>\n",
       "      <th>Id</th>\n",
       "      <th>Category</th>\n",
       "    </tr>\n",
       "  </thead>\n",
       "  <tbody>\n",
       "    <tr>\n",
       "      <th>0</th>\n",
       "      <td>ID_1</td>\n",
       "      <td>1</td>\n",
       "    </tr>\n",
       "    <tr>\n",
       "      <th>1</th>\n",
       "      <td>ID_2</td>\n",
       "      <td>4</td>\n",
       "    </tr>\n",
       "    <tr>\n",
       "      <th>2</th>\n",
       "      <td>ID_3</td>\n",
       "      <td>4</td>\n",
       "    </tr>\n",
       "    <tr>\n",
       "      <th>3</th>\n",
       "      <td>ID_4</td>\n",
       "      <td>2</td>\n",
       "    </tr>\n",
       "    <tr>\n",
       "      <th>4</th>\n",
       "      <td>ID_5</td>\n",
       "      <td>1</td>\n",
       "    </tr>\n",
       "  </tbody>\n",
       "</table>\n",
       "</div>"
      ],
      "text/plain": [
       "     Id  Category\n",
       "0  ID_1         1\n",
       "1  ID_2         4\n",
       "2  ID_3         4\n",
       "3  ID_4         2\n",
       "4  ID_5         1"
      ]
     },
     "execution_count": 23,
     "metadata": {},
     "output_type": "execute_result"
    }
   ],
   "source": [
    "#create final dataframe of predicted values\n",
    "sol = pd.DataFrame({'Id':df_test[0],'Category':pd.Series(p_gnb_final)},columns=['Id','Category'])\n",
    "sol.head()"
   ]
  },
  {
   "cell_type": "code",
   "execution_count": 24,
   "metadata": {},
   "outputs": [
    {
     "data": {
      "text/plain": [
       "array([1, 4, 4, 2, 1, 3, 1, 4, 2, 2, 3, 4, 4, 2, 1, 3, 3, 3, 1, 3, 2, 3, 3,\n",
       "       4, 2, 2, 4, 4, 2, 4, 3, 4, 2, 1, 3, 3, 2, 1, 1, 4, 3, 1, 1, 1, 4, 4,\n",
       "       3, 3, 4, 3, 4, 1, 4, 1, 1, 1, 1, 2, 2, 1, 2, 4, 4, 3, 1, 4, 4, 1, 2,\n",
       "       4, 1, 2, 2, 3, 4, 1, 3, 4, 3, 3, 3, 2, 2, 4, 2, 4, 4, 4, 2, 4, 4, 2,\n",
       "       4, 4, 3, 3, 4, 1, 3, 1, 1, 1, 1, 3, 2, 2, 3, 4, 1, 3, 1, 2, 4, 2, 4,\n",
       "       1, 4, 2, 3, 2, 4, 4, 2, 3, 2, 3, 3, 3, 2, 2, 3, 3, 4, 4, 3, 1, 4, 4,\n",
       "       2, 4, 1, 4, 4, 4, 1, 1, 2, 1, 3, 3, 4, 3, 3, 3, 2, 4, 4, 4, 2, 1, 2,\n",
       "       2, 2, 1, 2, 4, 1, 3, 4, 2, 2, 1, 2, 1, 3, 1, 2, 3, 2, 3, 4, 3, 3, 1,\n",
       "       3, 1, 1, 4, 2, 3, 3, 1, 4, 4, 2, 2, 2, 4, 3, 4, 4, 3, 2, 3, 3, 1, 1,\n",
       "       2, 1, 4, 4, 3, 2, 3, 2, 1, 1, 2, 1, 3, 3, 1, 4, 1, 2, 3, 1, 3, 2, 4,\n",
       "       3, 3, 1, 4, 3, 3, 2, 4, 2, 1, 2, 2, 4, 1, 1, 4, 2, 3, 3, 1, 1, 3, 3,\n",
       "       1, 2, 4, 4, 4, 4, 4, 3, 2, 3, 1, 3, 3, 1, 2, 2, 1, 4, 1, 1, 2, 3, 4,\n",
       "       1, 1, 1, 2, 4, 4, 1, 3, 1, 3, 3, 1, 1, 3, 3, 3, 2, 1, 3, 4, 3, 2, 3,\n",
       "       3, 1, 2, 2, 1, 1, 1, 1, 1, 1, 4, 4, 4, 3, 2, 1, 3, 4, 3, 1, 1, 4, 4,\n",
       "       4, 2, 2, 2, 1, 3, 4, 4, 1, 4, 1, 2, 1, 1, 1, 1, 2, 3, 3, 4, 3, 3, 4,\n",
       "       4, 3, 1, 3, 1, 1, 1, 2, 3, 1, 2, 4, 2, 3, 2, 4, 3, 2, 4, 4, 3, 4, 2,\n",
       "       1, 4, 4, 2, 1, 3, 2, 2, 2, 2, 3, 3, 3, 2, 2, 1, 2, 1, 1, 4, 2, 4, 2,\n",
       "       1, 3, 2, 1, 4, 4, 3, 3, 1, 3, 3, 2, 2, 4, 1, 3, 2, 4, 3, 4, 1, 4, 4,\n",
       "       2, 4, 2, 3, 4, 3, 4, 2, 2, 4, 2, 2, 2, 2, 1, 4, 1, 1, 1, 4, 2, 2, 3,\n",
       "       3, 3, 1, 1, 4, 3, 3, 4, 4, 3, 1, 3, 1, 3, 1, 2, 1, 4, 3, 3, 3, 2, 2,\n",
       "       1, 2, 1, 2, 1, 3, 4, 4, 4, 1, 1, 1, 3, 4, 2, 2, 4, 1, 4, 2, 3, 4, 2,\n",
       "       2, 2, 3, 2, 1, 2, 1, 2, 2, 2, 1, 3, 3, 3, 4, 3, 4])"
      ]
     },
     "execution_count": 24,
     "metadata": {},
     "output_type": "execute_result"
    }
   ],
   "source": [
    "p_gnb_final"
   ]
  },
  {
   "cell_type": "code",
   "execution_count": 25,
   "metadata": {
    "collapsed": true
   },
   "outputs": [],
   "source": [
    "#convert final output dataframe to csv format\n",
    "sol.to_csv('Answer.csv',index=False)"
   ]
  },
  {
   "cell_type": "code",
   "execution_count": null,
   "metadata": {
    "collapsed": true
   },
   "outputs": [],
   "source": []
  }
 ],
 "metadata": {
  "kernelspec": {
   "display_name": "Python 3",
   "language": "python",
   "name": "python3"
  },
  "language_info": {
   "codemirror_mode": {
    "name": "ipython",
    "version": 3
   },
   "file_extension": ".py",
   "mimetype": "text/x-python",
   "name": "python",
   "nbconvert_exporter": "python",
   "pygments_lexer": "ipython3",
   "version": "3.6.3"
  }
 },
 "nbformat": 4,
 "nbformat_minor": 2
}
